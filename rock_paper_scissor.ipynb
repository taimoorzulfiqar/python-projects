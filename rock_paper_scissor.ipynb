{
  "nbformat": 4,
  "nbformat_minor": 0,
  "metadata": {
    "colab": {
      "name": "rock-paper-scissor.ipynb",
      "provenance": [],
      "authorship_tag": "ABX9TyN7uBKYqIm9vL05JmPLb+T4"
    },
    "kernelspec": {
      "name": "python3",
      "display_name": "Python 3"
    },
    "language_info": {
      "name": "python"
    }
  },
  "cells": [
    {
      "cell_type": "code",
      "metadata": {
        "colab": {
          "base_uri": "https://localhost:8080/"
        },
        "id": "V7wnal9GRrb_",
        "outputId": "82be4059-bffd-42af-a903-3439fca9e44c"
      },
      "source": [
        "import random\n",
        "\n",
        "def play():\n",
        "    user = input(\"What's your choice? 'r' for rock, 'p' for paper, 's' for scissors\\n\")\n",
        "    computer = random.choice(['r', 'p', 's'])\n",
        "\n",
        "    if user == computer:\n",
        "        return 'It\\'s a tie'\n",
        "\n",
        "    # r > s, s > p, p > r\n",
        "    if is_win(user, computer):\n",
        "        return 'You won!'\n",
        "\n",
        "    return 'You lost!'\n",
        "\n",
        "def is_win(player, opponent):\n",
        "    # return true if player wins\n",
        "    # r > s, s > p, p > r\n",
        "    if (player == 'r' and opponent == 's') or (player == 's' and opponent == 'p') \\\n",
        "        or (player == 'p' and opponent == 'r'):\n",
        "        return True\n",
        "\n",
        "print(play())"
      ],
      "execution_count": 1,
      "outputs": [
        {
          "output_type": "stream",
          "name": "stdout",
          "text": [
            "What's your choice? 'r' for rock, 'p' for paper, 's' for scissors\n",
            "p\n",
            "You won!\n"
          ]
        }
      ]
    }
  ]
}